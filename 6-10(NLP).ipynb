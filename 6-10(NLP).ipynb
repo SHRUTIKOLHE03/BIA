{
 "cells": [
  {
   "cell_type": "code",
   "execution_count": 1,
   "id": "098e1f5e-04ad-4ff4-8ba8-ee214471cf4e",
   "metadata": {},
   "outputs": [
    {
     "name": "stdout",
     "output_type": "stream",
     "text": [
      "Requirement already satisfied: NLTK in c:\\users\\varsha arun\\anaconda3\\lib\\site-packages (3.8.1)\n",
      "Requirement already satisfied: click in c:\\users\\varsha arun\\anaconda3\\lib\\site-packages (from NLTK) (8.1.7)\n",
      "Requirement already satisfied: joblib in c:\\users\\varsha arun\\anaconda3\\lib\\site-packages (from NLTK) (1.4.2)\n",
      "Requirement already satisfied: regex>=2021.8.3 in c:\\users\\varsha arun\\anaconda3\\lib\\site-packages (from NLTK) (2023.10.3)\n",
      "Requirement already satisfied: tqdm in c:\\users\\varsha arun\\anaconda3\\lib\\site-packages (from NLTK) (4.66.4)\n",
      "Requirement already satisfied: colorama in c:\\users\\varsha arun\\anaconda3\\lib\\site-packages (from click->NLTK) (0.4.6)\n",
      "Note: you may need to restart the kernel to use updated packages.\n"
     ]
    }
   ],
   "source": [
    "pip install NLTK"
   ]
  },
  {
   "cell_type": "markdown",
   "id": "46b01509-0a05-45ca-9b08-7ae1db6bd86f",
   "metadata": {},
   "source": [
    "# Importing Libraries"
   ]
  },
  {
   "cell_type": "code",
   "execution_count": 8,
   "id": "16c21bed-3dd7-481e-beee-18b9442c0c26",
   "metadata": {},
   "outputs": [],
   "source": [
    "import nltk\n",
    "import pandas as pd\n",
    "import numpy as np\n",
    "from nltk.corpus import stopwords\n",
    "from nltk.tokenize import word_tokenize\n",
    "import string\n",
    "import warnings\n",
    "warnings.filterwarnings(\"ignore\")"
   ]
  },
  {
   "cell_type": "markdown",
   "id": "f35747e1-712f-40e6-8f13-7a031a30f460",
   "metadata": {},
   "source": [
    "# Sample Text"
   ]
  },
  {
   "cell_type": "code",
   "execution_count": 11,
   "id": "2e015145-303a-430c-8715-4b9106262c76",
   "metadata": {},
   "outputs": [],
   "source": [
    "text=\"This is a simple example: we're going to preprocess this text, removing stpowords and punctuations\""
   ]
  },
  {
   "cell_type": "markdown",
   "id": "0f333b0c-6abb-40e5-9a70-d4fbee812159",
   "metadata": {},
   "source": [
    "# 1. Text Preprocessing"
   ]
  },
  {
   "cell_type": "markdown",
   "id": "e27c05af-379a-45aa-ae52-c98e674d1596",
   "metadata": {},
   "source": [
    "# Tokenization"
   ]
  },
  {
   "cell_type": "code",
   "execution_count": 16,
   "id": "06735db0-7d8f-4cc0-9849-0889ad1fc880",
   "metadata": {},
   "outputs": [
    {
     "name": "stdout",
     "output_type": "stream",
     "text": [
      "['This', 'is', 'a', 'simple', 'example', ':', 'we', \"'re\", 'going', 'to', 'preprocess', 'this', 'text', ',', 'removing', 'stpowords', 'and', 'punctuations']\n"
     ]
    }
   ],
   "source": [
    "words=word_tokenize(text)\n",
    "print(words)"
   ]
  },
  {
   "cell_type": "markdown",
   "id": "3229b81e-90f3-4cb6-b181-1e2bc09e537e",
   "metadata": {},
   "source": [
    "# Text Cleaning "
   ]
  },
  {
   "cell_type": "code",
   "execution_count": 37,
   "id": "4a1927fd-ff2f-4c1b-b4bd-4817f6b7c2a2",
   "metadata": {},
   "outputs": [
    {
     "data": {
      "text/plain": [
       "'\\n#for word in words:\\n#   if word.isaplha():\\n#print(word.lower())\\n'"
      ]
     },
     "execution_count": 37,
     "metadata": {},
     "output_type": "execute_result"
    }
   ],
   "source": [
    "# Remove Punctuation and make word lower\n",
    "cleaned_words=[word.lower() for word in words if word.isalpha()]\n",
    "\n",
    "\n",
    "\"\"\"\n",
    "#for word in words:\n",
    "#   if word.isaplha():\n",
    "#print(word.lower())\n",
    "\"\"\""
   ]
  },
  {
   "cell_type": "code",
   "execution_count": 31,
   "id": "c3ef75dc-69a3-43e5-b0da-dbc3a3a8c892",
   "metadata": {},
   "outputs": [
    {
     "name": "stdout",
     "output_type": "stream",
     "text": [
      "['this', 'is', 'a', 'simple', 'example', 'we', 'going', 'to', 'preprocess', 'this', 'text', 'removing', 'stpowords', 'and', 'punctuations']\n"
     ]
    }
   ],
   "source": [
    "print(cleaned_words)"
   ]
  },
  {
   "cell_type": "markdown",
   "id": "d86165e3-a93e-4288-af45-a03e9275c398",
   "metadata": {},
   "source": [
    "# Stop word removal"
   ]
  },
  {
   "cell_type": "code",
   "execution_count": 40,
   "id": "cd7fd658-d1a0-41c6-bd5d-3430721dcd5f",
   "metadata": {},
   "outputs": [
    {
     "name": "stderr",
     "output_type": "stream",
     "text": [
      "[nltk_data] Downloading package stopwords to C:\\Users\\Varsha\n",
      "[nltk_data]     Arun\\AppData\\Roaming\\nltk_data...\n",
      "[nltk_data]   Package stopwords is already up-to-date!\n"
     ]
    },
    {
     "data": {
      "text/plain": [
       "True"
      ]
     },
     "execution_count": 40,
     "metadata": {},
     "output_type": "execute_result"
    }
   ],
   "source": [
    "nltk.download('stopwords')"
   ]
  },
  {
   "cell_type": "code",
   "execution_count": 42,
   "id": "c1644301-9f3e-401e-b0e0-5d9d89514a4e",
   "metadata": {},
   "outputs": [],
   "source": [
    "stop_words=(stopwords.words(\"english\"))"
   ]
  },
  {
   "cell_type": "code",
   "execution_count": 50,
   "id": "2e60d913-f61f-46b5-9472-f978710cd274",
   "metadata": {},
   "outputs": [
    {
     "name": "stdout",
     "output_type": "stream",
     "text": [
      "['simple', 'example', 'going', 'preprocess', 'text', 'removing', 'stpowords', 'punctuations']\n"
     ]
    }
   ],
   "source": [
    "filtered_words=[word for word in cleaned_words if word not in stop_words]\n",
    "print(filtered_words)"
   ]
  },
  {
   "cell_type": "code",
   "execution_count": 56,
   "id": "74fcfdba-d5b9-4c1e-b1f9-ecf708908fba",
   "metadata": {},
   "outputs": [
    {
     "name": "stdout",
     "output_type": "stream",
     "text": [
      "['i', 'me', 'my', 'myself', 'we', 'our', 'ours', 'ourselves', 'you', \"you're\", \"you've\", \"you'll\", \"you'd\", 'your', 'yours', 'yourself', 'yourselves', 'he', 'him', 'his', 'himself', 'she', \"she's\", 'her', 'hers', 'herself', 'it', \"it's\", 'its', 'itself', 'they', 'them', 'their', 'theirs', 'themselves', 'what', 'which', 'who', 'whom', 'this', 'that', \"that'll\", 'these', 'those', 'am', 'is', 'are', 'was', 'were', 'be', 'been', 'being', 'have', 'has', 'had', 'having', 'do', 'does', 'did', 'doing', 'a', 'an', 'the', 'and', 'but', 'if', 'or', 'because', 'as', 'until', 'while', 'of', 'at', 'by', 'for', 'with', 'about', 'against', 'between', 'into', 'through', 'during', 'before', 'after', 'above', 'below', 'to', 'from', 'up', 'down', 'in', 'out', 'on', 'off', 'over', 'under', 'again', 'further', 'then', 'once', 'here', 'there', 'when', 'where', 'why', 'how', 'all', 'any', 'both', 'each', 'few', 'more', 'most', 'other', 'some', 'such', 'no', 'nor', 'not', 'only', 'own', 'same', 'so', 'than', 'too', 'very', 's', 't', 'can', 'will', 'just', 'don', \"don't\", 'should', \"should've\", 'now', 'd', 'll', 'm', 'o', 're', 've', 'y', 'ain', 'aren', \"aren't\", 'couldn', \"couldn't\", 'didn', \"didn't\", 'doesn', \"doesn't\", 'hadn', \"hadn't\", 'hasn', \"hasn't\", 'haven', \"haven't\", 'isn', \"isn't\", 'ma', 'mightn', \"mightn't\", 'mustn', \"mustn't\", 'needn', \"needn't\", 'shan', \"shan't\", 'shouldn', \"shouldn't\", 'wasn', \"wasn't\", 'weren', \"weren't\", 'won', \"won't\", 'wouldn', \"wouldn't\"]\n"
     ]
    }
   ],
   "source": [
    "print(stop_words)"
   ]
  },
  {
   "cell_type": "markdown",
   "id": "78f040fb-6cad-4091-b5cf-c367c45632b2",
   "metadata": {},
   "source": [
    "# Print Result"
   ]
  },
  {
   "cell_type": "code",
   "execution_count": 61,
   "id": "83daaf62-105a-4ca4-80c3-609fb54e912e",
   "metadata": {},
   "outputs": [
    {
     "name": "stdout",
     "output_type": "stream",
     "text": [
      "Original Text:  This is a simple example: we're going to preprocess this text, removing stpowords and punctuations\n",
      "Tokenized Text:  ['This', 'is', 'a', 'simple', 'example', ':', 'we', \"'re\", 'going', 'to', 'preprocess', 'this', 'text', ',', 'removing', 'stpowords', 'and', 'punctuations']\n",
      "Cleaned Text:  ['simple', 'example', 'going', 'preprocess', 'text', 'removing', 'stpowords', 'punctuations']\n"
     ]
    }
   ],
   "source": [
    "print(\"Original Text: \",text)\n",
    "print(\"Tokenized Text: \", words)\n",
    "print(\"Cleaned Text: \",filtered_words)"
   ]
  },
  {
   "cell_type": "code",
   "execution_count": null,
   "id": "5b434890-44d4-48e3-8be0-9bbc53a8cdb0",
   "metadata": {},
   "outputs": [],
   "source": []
  }
 ],
 "metadata": {
  "kernelspec": {
   "display_name": "Python 3 (ipykernel)",
   "language": "python",
   "name": "python3"
  },
  "language_info": {
   "codemirror_mode": {
    "name": "ipython",
    "version": 3
   },
   "file_extension": ".py",
   "mimetype": "text/x-python",
   "name": "python",
   "nbconvert_exporter": "python",
   "pygments_lexer": "ipython3",
   "version": "3.12.4"
  }
 },
 "nbformat": 4,
 "nbformat_minor": 5
}
