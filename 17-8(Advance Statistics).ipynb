{
 "cells": [
  {
   "cell_type": "code",
   "execution_count": 125,
   "id": "7ec631e4-dfb8-4126-8a7d-fd62cc355789",
   "metadata": {},
   "outputs": [],
   "source": [
    "#decision\n",
    "#test_value>critical value\n",
    "#reject null hypothesis\n",
    "#accept alternate hypothesis"
   ]
  },
  {
   "cell_type": "code",
   "execution_count": 13,
   "id": "9623f794-e20f-4039-b8ef-48119fdd65a3",
   "metadata": {},
   "outputs": [],
   "source": [
    "#On average if we collect data of 100 participants whethe they have lost sihnificant amount of weight"
   ]
  },
  {
   "cell_type": "markdown",
   "id": "d74ee301-b5e8-4f0e-b076-9106eb734ab1",
   "metadata": {},
   "source": [
    "# Create Dataset"
   ]
  },
  {
   "cell_type": "code",
   "execution_count": 15,
   "id": "ed95e976-f4da-4cef-889d-e9a094142108",
   "metadata": {},
   "outputs": [],
   "source": [
    "import random"
   ]
  },
  {
   "cell_type": "code",
   "execution_count": 17,
   "id": "bba3cf75-592f-4ab1-8a91-eaf5b2ecea29",
   "metadata": {},
   "outputs": [],
   "source": [
    "#generate data\n",
    "random.seed(42) #Generate same random number for everyone"
   ]
  },
  {
   "cell_type": "code",
   "execution_count": 19,
   "id": "ba1605c6-007b-4ed9-a2b2-1ea27890dbfe",
   "metadata": {},
   "outputs": [
    {
     "data": {
      "text/plain": [
       "[6.574554585349896,\n",
       " 0.7376021746153358,\n",
       " 3.112778524506633,\n",
       " 2.6205020124138163,\n",
       " 7.496476534558118,\n",
       " 6.9286451305176575,\n",
       " 8.975705893196032,\n",
       " 1.3259189099794535,\n",
       " 4.5082572870100694,\n",
       " 0.7830735846616683,\n",
       " 2.577060760634232,\n",
       " 5.300875236981943,\n",
       " 0.7520917119967044,\n",
       " 2.3889576815231606,\n",
       " 6.67390215890547,\n",
       " 5.6769440657305585,\n",
       " 2.594185909386619,\n",
       " 6.098023996821133,\n",
       " 8.189589338439353,\n",
       " 0.5617382169415797,\n",
       " 8.155282892411675,\n",
       " 7.132324252388155,\n",
       " 3.7323799069209227,\n",
       " 1.9770552482119248,\n",
       " 9.593524185964421,\n",
       " 3.6976481785699544,\n",
       " 1.3810855121114052,\n",
       " 1.4188055799179082,\n",
       " 8.551196480300868,\n",
       " 6.2353972979854655,\n",
       " 8.167718596106612,\n",
       " 7.43245197359127,\n",
       " 5.594166868819657,\n",
       " 9.744599757804021,\n",
       " 4.096076583479358,\n",
       " 5.744385997095656,\n",
       " 8.37934431040345,\n",
       " 6.375937647460337,\n",
       " 8.686215552952383,\n",
       " 5.984845379939239,\n",
       " 7.193432444041773,\n",
       " 0.935331644728791,\n",
       " 2.6650336186896952,\n",
       " 3.249185654220018,\n",
       " 1.2580237807744612,\n",
       " 2.7115134204297866,\n",
       " 1.4595135793924265,\n",
       " 3.140749229545875,\n",
       " 6.539002220511802,\n",
       " 3.9659057002158002,\n",
       " 4.016719187610385,\n",
       " 2.490316792329133,\n",
       " 3.036289309466577,\n",
       " 9.398218583268694,\n",
       " 6.656336159842638,\n",
       " 6.286744553836388,\n",
       " 2.1258171578819214,\n",
       " 7.426704580528317,\n",
       " 2.0523236907383198,\n",
       " 4.104826696697653,\n",
       " 9.900471831047655,\n",
       " 6.579997718613882,\n",
       " 5.791022565859139,\n",
       " 7.003835384403809,\n",
       " 8.507093241803192,\n",
       " 7.8719991596893255,\n",
       " 2.6759566836589914,\n",
       " 0.8049523170883588,\n",
       " 3.496803956561278,\n",
       " 3.043538321769176,\n",
       " 2.5043370140701016,\n",
       " 9.457642286183017,\n",
       " 8.825492451490355,\n",
       " 3.4894398675855403,\n",
       " 6.7266673203013605,\n",
       " 4.25850306007631,\n",
       " 9.188202102535163,\n",
       " 4.859092599580289,\n",
       " 3.0163615817314984,\n",
       " 2.842961323092843,\n",
       " 5.832997274549933,\n",
       " 2.996045280967885,\n",
       " 6.053566907123635,\n",
       " 9.029317394223531,\n",
       " 4.294304798833775,\n",
       " 2.583547211994192,\n",
       " 9.976607261703547,\n",
       " 5.340499789926413,\n",
       " 1.363639415651042,\n",
       " 0.9476055665349784,\n",
       " 1.5416667383312619,\n",
       " 6.460737396179355,\n",
       " 8.024753961448159,\n",
       " 4.510519684596998,\n",
       " 1.1035132084435928,\n",
       " 4.125383221812099,\n",
       " 9.963153112280919,\n",
       " 5.526586278441802,\n",
       " 9.725244587329373,\n",
       " 8.677407171227731]"
      ]
     },
     "execution_count": 19,
     "metadata": {},
     "output_type": "execute_result"
    }
   ],
   "source": [
    "weight_loss_data=[random.uniform(0.5,10) for _ in range (100)]\n",
    "weight_loss_data"
   ]
  },
  {
   "cell_type": "code",
   "execution_count": 25,
   "id": "a7710329-5af6-47de-a49d-c08b8493f0aa",
   "metadata": {},
   "outputs": [
    {
     "data": {
      "text/plain": [
       "5.05590780970096"
      ]
     },
     "execution_count": 25,
     "metadata": {},
     "output_type": "execute_result"
    }
   ],
   "source": [
    "#calculate the mean:\n",
    "import numpy as np\n",
    "sample_mean=np.mean(weight_loss_data)\n",
    "sample_mean"
   ]
  },
  {
   "cell_type": "code",
   "execution_count": 27,
   "id": "56116434-f182-4089-828d-7764cc25f419",
   "metadata": {},
   "outputs": [
    {
     "data": {
      "text/plain": [
       "2.7884894835856673"
      ]
     },
     "execution_count": 27,
     "metadata": {},
     "output_type": "execute_result"
    }
   ],
   "source": [
    "sample_std=np.std(weight_loss_data,ddof=1) #ddof= Degree of freedom =1 so sample dataset= 100-1=90 \n",
    "sample_std"
   ]
  },
  {
   "cell_type": "markdown",
   "id": "6f2a803d-98ef-4e8e-965f-24cc3a87c683",
   "metadata": {},
   "source": [
    "# z test"
   ]
  },
  {
   "cell_type": "code",
   "execution_count": 32,
   "id": "8a20ecb5-417c-4ded-96d4-2a686993bbfe",
   "metadata": {},
   "outputs": [],
   "source": [
    "# if you dont have population mean then take it zero\n",
    "population_mean=0\n",
    "z_score=(sample_mean - population_mean)/(sample_std/np.sqrt(len(weight_loss_data)))"
   ]
  },
  {
   "cell_type": "code",
   "execution_count": 34,
   "id": "a8c2121e-cc37-4539-8fec-e199a50da819",
   "metadata": {},
   "outputs": [
    {
     "data": {
      "text/plain": [
       "18.131349748537197"
      ]
     },
     "execution_count": 34,
     "metadata": {},
     "output_type": "execute_result"
    }
   ],
   "source": [
    "z_score"
   ]
  },
  {
   "cell_type": "code",
   "execution_count": 38,
   "id": "b6a782db-ad41-4625-9809-04a149bc6279",
   "metadata": {},
   "outputs": [
    {
     "name": "stdout",
     "output_type": "stream",
     "text": [
      "Mean: 5.05590780970096\n",
      "Standard Deviation 2.7884894835856673\n",
      "Z score 18.131349748537197\n"
     ]
    }
   ],
   "source": [
    "print(\"Mean:\",sample_mean)\n",
    "print(\"Standard Deviation\",sample_std)\n",
    "print(\"Z score\",z_score)"
   ]
  },
  {
   "cell_type": "code",
   "execution_count": 42,
   "id": "2a29791a-13b2-4acc-92d4-433de22244e2",
   "metadata": {},
   "outputs": [
    {
     "data": {
      "text/plain": [
       "99"
      ]
     },
     "execution_count": 42,
     "metadata": {},
     "output_type": "execute_result"
    }
   ],
   "source": [
    "# calculate the critical value\n",
    "from scipy.stats import norm\n",
    "degree_freedom=len(weight_loss_data)-1\n",
    "degree_freedom"
   ]
  },
  {
   "cell_type": "code",
   "execution_count": 46,
   "id": "de59a52c-cb4d-4b65-88c2-e281471a1046",
   "metadata": {},
   "outputs": [
    {
     "data": {
      "text/plain": [
       "1.6448536269514722"
      ]
     },
     "execution_count": 46,
     "metadata": {},
     "output_type": "execute_result"
    }
   ],
   "source": [
    "alpha=0.05\n",
    "critical_value=norm.ppf(1-alpha) # percentage point function\n",
    "critical_value"
   ]
  },
  {
   "cell_type": "code",
   "execution_count": 50,
   "id": "39066ece-2e35-4664-8123-f18300bbeabb",
   "metadata": {},
   "outputs": [
    {
     "data": {
      "text/plain": [
       "True"
      ]
     },
     "execution_count": 50,
     "metadata": {},
     "output_type": "execute_result"
    }
   ],
   "source": [
    "# If z_score>critical value=Reject\n",
    "# If z_score<critical value=Accept\n",
    "\n",
    "reject_null=z_score>critical_value\n",
    "reject_null"
   ]
  },
  {
   "cell_type": "code",
   "execution_count": 52,
   "id": "68bc8e81-516a-4283-84c0-969dbc5421b8",
   "metadata": {},
   "outputs": [
    {
     "name": "stdout",
     "output_type": "stream",
     "text": [
      "Rejecting Null hypothesis\n"
     ]
    }
   ],
   "source": [
    "print(\"Rejecting Null hypothesis\")"
   ]
  },
  {
   "cell_type": "markdown",
   "id": "ffe7636c-67c6-4f3a-9ac7-2922c50d03f7",
   "metadata": {},
   "source": [
    "# Chi Square test"
   ]
  },
  {
   "cell_type": "code",
   "execution_count": 85,
   "id": "4866cbed-3bcb-41ee-8ffb-11b923e3514b",
   "metadata": {},
   "outputs": [
    {
     "data": {
      "text/plain": [
       "['Female',\n",
       " 'Male',\n",
       " 'Male',\n",
       " 'Male',\n",
       " 'Female',\n",
       " 'Female',\n",
       " 'Female',\n",
       " 'Male',\n",
       " 'Male',\n",
       " 'Male',\n",
       " 'Male',\n",
       " 'Female',\n",
       " 'Male',\n",
       " 'Male',\n",
       " 'Female',\n",
       " 'Female',\n",
       " 'Male',\n",
       " 'Female',\n",
       " 'Female',\n",
       " 'Male',\n",
       " 'Female',\n",
       " 'Female',\n",
       " 'Male',\n",
       " 'Male',\n",
       " 'Female',\n",
       " 'Male',\n",
       " 'Male',\n",
       " 'Male',\n",
       " 'Female',\n",
       " 'Female',\n",
       " 'Female',\n",
       " 'Female',\n",
       " 'Female',\n",
       " 'Female',\n",
       " 'Male',\n",
       " 'Female',\n",
       " 'Female',\n",
       " 'Female',\n",
       " 'Female',\n",
       " 'Female',\n",
       " 'Female',\n",
       " 'Male',\n",
       " 'Male',\n",
       " 'Male',\n",
       " 'Male',\n",
       " 'Male',\n",
       " 'Male',\n",
       " 'Male',\n",
       " 'Female',\n",
       " 'Male',\n",
       " 'Male',\n",
       " 'Male',\n",
       " 'Male',\n",
       " 'Female',\n",
       " 'Female',\n",
       " 'Female',\n",
       " 'Male',\n",
       " 'Female',\n",
       " 'Male',\n",
       " 'Male',\n",
       " 'Female',\n",
       " 'Female',\n",
       " 'Female',\n",
       " 'Female',\n",
       " 'Female',\n",
       " 'Female',\n",
       " 'Male',\n",
       " 'Male',\n",
       " 'Male',\n",
       " 'Male',\n",
       " 'Male',\n",
       " 'Female',\n",
       " 'Female',\n",
       " 'Male',\n",
       " 'Female',\n",
       " 'Male',\n",
       " 'Female',\n",
       " 'Male',\n",
       " 'Male',\n",
       " 'Male',\n",
       " 'Female',\n",
       " 'Male',\n",
       " 'Female',\n",
       " 'Female',\n",
       " 'Male',\n",
       " 'Male',\n",
       " 'Female',\n",
       " 'Female',\n",
       " 'Male',\n",
       " 'Male',\n",
       " 'Male',\n",
       " 'Female',\n",
       " 'Female',\n",
       " 'Male',\n",
       " 'Male',\n",
       " 'Male',\n",
       " 'Female',\n",
       " 'Female',\n",
       " 'Female',\n",
       " 'Female',\n",
       " 'Male',\n",
       " 'Female',\n",
       " 'Female',\n",
       " 'Female',\n",
       " 'Male',\n",
       " 'Female',\n",
       " 'Male',\n",
       " 'Male',\n",
       " 'Male',\n",
       " 'Female',\n",
       " 'Female',\n",
       " 'Male',\n",
       " 'Female',\n",
       " 'Male',\n",
       " 'Female',\n",
       " 'Female',\n",
       " 'Male',\n",
       " 'Female',\n",
       " 'Female',\n",
       " 'Male',\n",
       " 'Female',\n",
       " 'Female',\n",
       " 'Female',\n",
       " 'Female',\n",
       " 'Male',\n",
       " 'Male',\n",
       " 'Male',\n",
       " 'Female',\n",
       " 'Female',\n",
       " 'Female',\n",
       " 'Male',\n",
       " 'Male',\n",
       " 'Female',\n",
       " 'Female',\n",
       " 'Male',\n",
       " 'Male',\n",
       " 'Male',\n",
       " 'Female',\n",
       " 'Female',\n",
       " 'Male',\n",
       " 'Male',\n",
       " 'Female',\n",
       " 'Male',\n",
       " 'Female',\n",
       " 'Male',\n",
       " 'Male',\n",
       " 'Female',\n",
       " 'Female',\n",
       " 'Male',\n",
       " 'Male',\n",
       " 'Female',\n",
       " 'Female',\n",
       " 'Male',\n",
       " 'Female',\n",
       " 'Male',\n",
       " 'Male',\n",
       " 'Male',\n",
       " 'Female',\n",
       " 'Male',\n",
       " 'Male',\n",
       " 'Male',\n",
       " 'Female',\n",
       " 'Male',\n",
       " 'Female',\n",
       " 'Female',\n",
       " 'Male',\n",
       " 'Male',\n",
       " 'Female',\n",
       " 'Male',\n",
       " 'Male',\n",
       " 'Female',\n",
       " 'Female',\n",
       " 'Male',\n",
       " 'Female',\n",
       " 'Female',\n",
       " 'Male',\n",
       " 'Male',\n",
       " 'Male',\n",
       " 'Male',\n",
       " 'Male',\n",
       " 'Female',\n",
       " 'Female',\n",
       " 'Female',\n",
       " 'Male',\n",
       " 'Male',\n",
       " 'Male',\n",
       " 'Female',\n",
       " 'Male',\n",
       " 'Male',\n",
       " 'Male',\n",
       " 'Male',\n",
       " 'Male',\n",
       " 'Male',\n",
       " 'Female',\n",
       " 'Male',\n",
       " 'Female',\n",
       " 'Female',\n",
       " 'Male',\n",
       " 'Female',\n",
       " 'Female']"
      ]
     },
     "execution_count": 85,
     "metadata": {},
     "output_type": "execute_result"
    }
   ],
   "source": [
    "import pandas as pd\n",
    "import random\n",
    "from scipy.stats import chi2_contingency   # chi2_contingency table\n",
    "\n",
    "#generate data\n",
    "random.seed(42)\n",
    "gender=random.choices(['Male','Female'], k=200) # choices help to generate from given choice\n",
    "gender"
   ]
  },
  {
   "cell_type": "code",
   "execution_count": 87,
   "id": "e87b924a-2a48-4b03-a1b1-72f53190a27c",
   "metadata": {},
   "outputs": [
    {
     "data": {
      "text/plain": [
       "['Nota',\n",
       " 'Nota',\n",
       " 'Nota',\n",
       " 'Candidate A',\n",
       " 'Candidate B',\n",
       " 'Candidate A',\n",
       " 'Candidate B',\n",
       " 'Candidate A',\n",
       " 'Candidate B',\n",
       " 'Nota',\n",
       " 'Candidate A',\n",
       " 'Nota',\n",
       " 'Candidate B',\n",
       " 'Candidate B',\n",
       " 'Nota',\n",
       " 'Nota',\n",
       " 'Candidate B',\n",
       " 'Nota',\n",
       " 'Candidate A',\n",
       " 'Candidate A',\n",
       " 'Nota',\n",
       " 'Candidate B',\n",
       " 'Candidate B',\n",
       " 'Nota',\n",
       " 'Candidate A',\n",
       " 'Candidate B',\n",
       " 'Candidate B',\n",
       " 'Nota',\n",
       " 'Candidate A',\n",
       " 'Nota',\n",
       " 'Candidate A',\n",
       " 'Candidate A',\n",
       " 'Candidate B',\n",
       " 'Nota',\n",
       " 'Candidate A',\n",
       " 'Candidate A',\n",
       " 'Nota',\n",
       " 'Candidate A',\n",
       " 'Candidate B',\n",
       " 'Candidate B',\n",
       " 'Candidate B',\n",
       " 'Candidate B',\n",
       " 'Candidate B',\n",
       " 'Nota',\n",
       " 'Candidate A',\n",
       " 'Nota',\n",
       " 'Candidate A',\n",
       " 'Candidate B',\n",
       " 'Nota',\n",
       " 'Candidate A',\n",
       " 'Candidate A',\n",
       " 'Nota',\n",
       " 'Candidate A',\n",
       " 'Candidate B',\n",
       " 'Nota',\n",
       " 'Nota',\n",
       " 'Candidate A',\n",
       " 'Candidate A',\n",
       " 'Candidate A',\n",
       " 'Nota',\n",
       " 'Nota',\n",
       " 'Nota',\n",
       " 'Candidate B',\n",
       " 'Candidate A',\n",
       " 'Nota',\n",
       " 'Nota',\n",
       " 'Candidate B',\n",
       " 'Nota',\n",
       " 'Candidate B',\n",
       " 'Candidate A',\n",
       " 'Nota',\n",
       " 'Candidate A',\n",
       " 'Candidate B',\n",
       " 'Nota',\n",
       " 'Candidate A',\n",
       " 'Candidate A',\n",
       " 'Candidate A',\n",
       " 'Candidate B',\n",
       " 'Candidate A',\n",
       " 'Candidate B',\n",
       " 'Nota',\n",
       " 'Candidate A',\n",
       " 'Candidate B',\n",
       " 'Candidate A',\n",
       " 'Candidate B',\n",
       " 'Nota',\n",
       " 'Nota',\n",
       " 'Candidate A',\n",
       " 'Candidate B',\n",
       " 'Candidate A',\n",
       " 'Candidate A',\n",
       " 'Nota',\n",
       " 'Candidate B',\n",
       " 'Candidate A',\n",
       " 'Nota',\n",
       " 'Candidate B',\n",
       " 'Candidate B',\n",
       " 'Candidate A',\n",
       " 'Candidate A',\n",
       " 'Nota',\n",
       " 'Nota',\n",
       " 'Candidate B',\n",
       " 'Nota',\n",
       " 'Candidate B',\n",
       " 'Candidate A',\n",
       " 'Candidate A',\n",
       " 'Candidate A',\n",
       " 'Nota',\n",
       " 'Nota',\n",
       " 'Nota',\n",
       " 'Nota',\n",
       " 'Candidate A',\n",
       " 'Candidate A',\n",
       " 'Candidate A',\n",
       " 'Nota',\n",
       " 'Nota',\n",
       " 'Candidate B',\n",
       " 'Candidate B',\n",
       " 'Candidate A',\n",
       " 'Nota',\n",
       " 'Nota',\n",
       " 'Nota',\n",
       " 'Nota',\n",
       " 'Nota',\n",
       " 'Candidate A',\n",
       " 'Nota',\n",
       " 'Candidate A',\n",
       " 'Nota',\n",
       " 'Nota',\n",
       " 'Nota',\n",
       " 'Nota',\n",
       " 'Candidate A',\n",
       " 'Nota',\n",
       " 'Candidate A',\n",
       " 'Nota',\n",
       " 'Nota',\n",
       " 'Candidate A',\n",
       " 'Nota',\n",
       " 'Candidate B',\n",
       " 'Candidate A',\n",
       " 'Nota',\n",
       " 'Candidate A',\n",
       " 'Candidate A',\n",
       " 'Candidate A',\n",
       " 'Candidate A',\n",
       " 'Nota',\n",
       " 'Nota',\n",
       " 'Candidate A',\n",
       " 'Candidate B',\n",
       " 'Candidate B',\n",
       " 'Nota',\n",
       " 'Candidate B',\n",
       " 'Nota',\n",
       " 'Candidate A',\n",
       " 'Nota',\n",
       " 'Candidate A',\n",
       " 'Nota',\n",
       " 'Candidate A',\n",
       " 'Candidate A',\n",
       " 'Candidate B',\n",
       " 'Nota',\n",
       " 'Candidate A',\n",
       " 'Candidate B',\n",
       " 'Candidate B',\n",
       " 'Candidate B',\n",
       " 'Candidate B',\n",
       " 'Candidate A',\n",
       " 'Nota',\n",
       " 'Candidate A',\n",
       " 'Nota',\n",
       " 'Candidate B',\n",
       " 'Nota',\n",
       " 'Nota',\n",
       " 'Nota',\n",
       " 'Candidate B',\n",
       " 'Candidate A',\n",
       " 'Candidate B',\n",
       " 'Candidate A',\n",
       " 'Candidate A',\n",
       " 'Nota',\n",
       " 'Nota',\n",
       " 'Candidate A',\n",
       " 'Candidate A',\n",
       " 'Candidate B',\n",
       " 'Candidate B',\n",
       " 'Candidate A',\n",
       " 'Candidate A',\n",
       " 'Candidate B',\n",
       " 'Nota',\n",
       " 'Nota',\n",
       " 'Nota',\n",
       " 'Candidate B',\n",
       " 'Candidate A',\n",
       " 'Candidate B',\n",
       " 'Candidate A',\n",
       " 'Candidate A',\n",
       " 'Candidate B',\n",
       " 'Candidate B',\n",
       " 'Candidate B',\n",
       " 'Candidate B']"
      ]
     },
     "execution_count": 87,
     "metadata": {},
     "output_type": "execute_result"
    }
   ],
   "source": [
    "#generate voting preferences\n",
    "voting_prefernces = random.choices(['Candidate A', 'Candidate B','Nota'],k=200)\n",
    "voting_prefernces"
   ]
  },
  {
   "cell_type": "code",
   "execution_count": 89,
   "id": "b141a7e8-0d60-4e82-aaa9-728ca3350f36",
   "metadata": {},
   "outputs": [],
   "source": [
    "#Create dataframe\n",
    "data={\n",
    "    'Gender':gender,\n",
    "    'Voting prefernces':voting_prefernces,\n",
    "}"
   ]
  },
  {
   "cell_type": "code",
   "execution_count": 91,
   "id": "55ff9a0b-eb21-4735-9e5f-3391743990f9",
   "metadata": {},
   "outputs": [
    {
     "data": {
      "text/html": [
       "<div>\n",
       "<style scoped>\n",
       "    .dataframe tbody tr th:only-of-type {\n",
       "        vertical-align: middle;\n",
       "    }\n",
       "\n",
       "    .dataframe tbody tr th {\n",
       "        vertical-align: top;\n",
       "    }\n",
       "\n",
       "    .dataframe thead th {\n",
       "        text-align: right;\n",
       "    }\n",
       "</style>\n",
       "<table border=\"1\" class=\"dataframe\">\n",
       "  <thead>\n",
       "    <tr style=\"text-align: right;\">\n",
       "      <th></th>\n",
       "      <th>Gender</th>\n",
       "      <th>Voting prefernces</th>\n",
       "    </tr>\n",
       "  </thead>\n",
       "  <tbody>\n",
       "    <tr>\n",
       "      <th>0</th>\n",
       "      <td>Female</td>\n",
       "      <td>Nota</td>\n",
       "    </tr>\n",
       "    <tr>\n",
       "      <th>1</th>\n",
       "      <td>Male</td>\n",
       "      <td>Nota</td>\n",
       "    </tr>\n",
       "    <tr>\n",
       "      <th>2</th>\n",
       "      <td>Male</td>\n",
       "      <td>Nota</td>\n",
       "    </tr>\n",
       "    <tr>\n",
       "      <th>3</th>\n",
       "      <td>Male</td>\n",
       "      <td>Candidate A</td>\n",
       "    </tr>\n",
       "    <tr>\n",
       "      <th>4</th>\n",
       "      <td>Female</td>\n",
       "      <td>Candidate B</td>\n",
       "    </tr>\n",
       "  </tbody>\n",
       "</table>\n",
       "</div>"
      ],
      "text/plain": [
       "   Gender Voting prefernces\n",
       "0  Female              Nota\n",
       "1    Male              Nota\n",
       "2    Male              Nota\n",
       "3    Male       Candidate A\n",
       "4  Female       Candidate B"
      ]
     },
     "execution_count": 91,
     "metadata": {},
     "output_type": "execute_result"
    }
   ],
   "source": [
    "df=pd.DataFrame(data)\n",
    "df.head()"
   ]
  },
  {
   "cell_type": "code",
   "execution_count": 93,
   "id": "ff176a7f-8ab6-4948-8160-6a4f28af9c71",
   "metadata": {},
   "outputs": [
    {
     "data": {
      "text/html": [
       "<div>\n",
       "<style scoped>\n",
       "    .dataframe tbody tr th:only-of-type {\n",
       "        vertical-align: middle;\n",
       "    }\n",
       "\n",
       "    .dataframe tbody tr th {\n",
       "        vertical-align: top;\n",
       "    }\n",
       "\n",
       "    .dataframe thead th {\n",
       "        text-align: right;\n",
       "    }\n",
       "</style>\n",
       "<table border=\"1\" class=\"dataframe\">\n",
       "  <thead>\n",
       "    <tr style=\"text-align: right;\">\n",
       "      <th>Voting prefernces</th>\n",
       "      <th>Candidate A</th>\n",
       "      <th>Candidate B</th>\n",
       "      <th>Nota</th>\n",
       "    </tr>\n",
       "    <tr>\n",
       "      <th>Gender</th>\n",
       "      <th></th>\n",
       "      <th></th>\n",
       "      <th></th>\n",
       "    </tr>\n",
       "  </thead>\n",
       "  <tbody>\n",
       "    <tr>\n",
       "      <th>Female</th>\n",
       "      <td>31</td>\n",
       "      <td>26</td>\n",
       "      <td>40</td>\n",
       "    </tr>\n",
       "    <tr>\n",
       "      <th>Male</th>\n",
       "      <td>40</td>\n",
       "      <td>29</td>\n",
       "      <td>34</td>\n",
       "    </tr>\n",
       "  </tbody>\n",
       "</table>\n",
       "</div>"
      ],
      "text/plain": [
       "Voting prefernces  Candidate A  Candidate B  Nota\n",
       "Gender                                           \n",
       "Female                      31           26    40\n",
       "Male                        40           29    34"
      ]
     },
     "execution_count": 93,
     "metadata": {},
     "output_type": "execute_result"
    }
   ],
   "source": [
    "# create a contingency table\n",
    "#Observed frequency Table\n",
    "contingency_table=pd.crosstab(df['Gender'], df['Voting prefernces']) # name of the columns \n",
    "contingency_table"
   ]
  },
  {
   "cell_type": "code",
   "execution_count": 121,
   "id": "a3250c09-6e7d-4ea5-a4d8-25ddbe3a5649",
   "metadata": {},
   "outputs": [
    {
     "data": {
      "text/plain": [
       "(1.6124190977333461,\n",
       " 0.4465474787793734,\n",
       " 2,\n",
       " array([[34.435, 26.675, 35.89 ],\n",
       "        [36.565, 28.325, 38.11 ]]))"
      ]
     },
     "execution_count": 121,
     "metadata": {},
     "output_type": "execute_result"
    }
   ],
   "source": [
    "# calculate the chi square\n",
    "#pass the table to chi2_contingency function\n",
    "chi2_value,p,dof,expected=chi2_contingency(contingency_table)\n",
    "chi2_value,p,dof,expected\n"
   ]
  },
  {
   "cell_type": "code",
   "execution_count": 105,
   "id": "733c5337-41fc-40b8-8575-aad1c8b10b77",
   "metadata": {},
   "outputs": [
    {
     "data": {
      "text/plain": [
       "5.991464547107979"
      ]
     },
     "execution_count": 105,
     "metadata": {},
     "output_type": "execute_result"
    }
   ],
   "source": [
    "#critical Value\n",
    "alpha=0.05\n",
    "from scipy.stats import chi2\n",
    "critical_value=chi2.ppf(1-alpha,dof)\n",
    "critical_value"
   ]
  },
  {
   "cell_type": "code",
   "execution_count": 103,
   "id": "ffc15789-66f1-42ac-af9f-95e3b88cb200",
   "metadata": {},
   "outputs": [],
   "source": [
    "#decision\n",
    "#chi>critical-reject\n",
    "#chi<critical-accept"
   ]
  },
  {
   "cell_type": "code",
   "execution_count": 123,
   "id": "9d67a871-f0b5-4e75-b702-d65f1995e6c5",
   "metadata": {},
   "outputs": [
    {
     "name": "stdout",
     "output_type": "stream",
     "text": [
      "Null Hypothesis:  False\n"
     ]
    }
   ],
   "source": [
    "reject_null=chi2_value > critical_value\n",
    "print(\"Null Hypothesis: \",reject_null)"
   ]
  },
  {
   "cell_type": "markdown",
   "id": "9746a576-3d4a-42da-9829-72041dad8ad3",
   "metadata": {},
   "source": [
    "# One way Anova"
   ]
  },
  {
   "cell_type": "code",
   "execution_count": 128,
   "id": "ff9f4f4b-bbff-4b35-a9d8-bab6b9859e7d",
   "metadata": {},
   "outputs": [],
   "source": [
    "from scipy.stats import stats\n",
    "import numpy as np"
   ]
  },
  {
   "cell_type": "code",
   "execution_count": 140,
   "id": "fb7b79ca-e4fd-4565-bd9f-b7ee410bc0f1",
   "metadata": {},
   "outputs": [],
   "source": [
    "#prepare the data\n",
    "school1=np.array([85,88,90,92,86])\n",
    "school2=np.array([78,82,80,85,88])\n",
    "school3=np.array([92,94,89,88,90])"
   ]
  },
  {
   "cell_type": "code",
   "execution_count": 142,
   "id": "aa29eb3e-a5ee-4ac7-af9d-2dfc073f138d",
   "metadata": {},
   "outputs": [
    {
     "name": "stdout",
     "output_type": "stream",
     "text": [
      "One way anova stats:  8.483221476510069\n"
     ]
    },
    {
     "name": "stderr",
     "output_type": "stream",
     "text": [
      "C:\\Users\\Varsha Arun\\AppData\\Local\\Temp\\ipykernel_17868\\2355695932.py:2: DeprecationWarning: Please import `f_oneway` from the `scipy.stats` namespace; the `scipy.stats.stats` namespace is deprecated and will be removed in SciPy 2.0.0.\n",
      "  f_statistics,p_value= stats.f_oneway(school1,school2,school3)\n"
     ]
    }
   ],
   "source": [
    "#Perform 1 way anova\n",
    "f_statistics,p_value= stats.f_oneway(school1,school2,school3)\n",
    "print(\"One way anova stats: \",f_statistics)"
   ]
  },
  {
   "cell_type": "code",
   "execution_count": 144,
   "id": "63624f98-d28b-4924-8469-11130824ea53",
   "metadata": {},
   "outputs": [
    {
     "name": "stdout",
     "output_type": "stream",
     "text": [
      "P value:  0.00505494541965152\n"
     ]
    }
   ],
   "source": [
    "print(\"P value: \",p_value)"
   ]
  },
  {
   "cell_type": "code",
   "execution_count": 146,
   "id": "c7205d4d-e9a7-477b-ac9c-29420413cf14",
   "metadata": {},
   "outputs": [
    {
     "name": "stdout",
     "output_type": "stream",
     "text": [
      "Reject null Hypothesis. Significant difference between test scores\n"
     ]
    }
   ],
   "source": [
    "alpha=0.05\n",
    "if p_value<alpha:\n",
    "    print(\"Reject null Hypothesis. Significant difference between test scores\")\n",
    "else: \n",
    "    print(\"Accept null Hypothesis. No significant difference between test scores\")"
   ]
  },
  {
   "cell_type": "markdown",
   "id": "8a0aa8e9-a253-467a-aa02-7667c2e631e9",
   "metadata": {},
   "source": [
    "# Two way anova"
   ]
  },
  {
   "cell_type": "code",
   "execution_count": 150,
   "id": "436d387d-8f1f-4402-a379-96ac9f6379bb",
   "metadata": {},
   "outputs": [],
   "source": [
    "#One way anova- 1 independent categorical and 1  dependent continious- Better\n",
    "#Two way anova- 2 independent categorical and 1  dependent continious"
   ]
  },
  {
   "cell_type": "code",
   "execution_count": 168,
   "id": "3cb65221-de40-411e-b54d-4289611338af",
   "metadata": {},
   "outputs": [],
   "source": [
    "import statsmodels.api as sm\n",
    "from statsmodels.formula.api import ols #Ordinary least square\n",
    "import numpy as np"
   ]
  },
  {
   "cell_type": "code",
   "execution_count": 174,
   "id": "a814ae88-0e0f-4ba4-aaa6-02b21891c57a",
   "metadata": {},
   "outputs": [
    {
     "data": {
      "text/html": [
       "<div>\n",
       "<style scoped>\n",
       "    .dataframe tbody tr th:only-of-type {\n",
       "        vertical-align: middle;\n",
       "    }\n",
       "\n",
       "    .dataframe tbody tr th {\n",
       "        vertical-align: top;\n",
       "    }\n",
       "\n",
       "    .dataframe thead th {\n",
       "        text-align: right;\n",
       "    }\n",
       "</style>\n",
       "<table border=\"1\" class=\"dataframe\">\n",
       "  <thead>\n",
       "    <tr style=\"text-align: right;\">\n",
       "      <th></th>\n",
       "      <th>school</th>\n",
       "      <th>subject</th>\n",
       "      <th>score</th>\n",
       "    </tr>\n",
       "  </thead>\n",
       "  <tbody>\n",
       "    <tr>\n",
       "      <th>0</th>\n",
       "      <td>school1</td>\n",
       "      <td>math</td>\n",
       "      <td>12</td>\n",
       "    </tr>\n",
       "    <tr>\n",
       "      <th>1</th>\n",
       "      <td>school1</td>\n",
       "      <td>math</td>\n",
       "      <td>16</td>\n",
       "    </tr>\n",
       "    <tr>\n",
       "      <th>2</th>\n",
       "      <td>school1</td>\n",
       "      <td>math</td>\n",
       "      <td>15</td>\n",
       "    </tr>\n",
       "    <tr>\n",
       "      <th>3</th>\n",
       "      <td>school1</td>\n",
       "      <td>math</td>\n",
       "      <td>15</td>\n",
       "    </tr>\n",
       "    <tr>\n",
       "      <th>4</th>\n",
       "      <td>school1</td>\n",
       "      <td>math</td>\n",
       "      <td>10</td>\n",
       "    </tr>\n",
       "    <tr>\n",
       "      <th>5</th>\n",
       "      <td>school1</td>\n",
       "      <td>math</td>\n",
       "      <td>17</td>\n",
       "    </tr>\n",
       "    <tr>\n",
       "      <th>6</th>\n",
       "      <td>school1</td>\n",
       "      <td>math</td>\n",
       "      <td>15</td>\n",
       "    </tr>\n",
       "    <tr>\n",
       "      <th>7</th>\n",
       "      <td>school1</td>\n",
       "      <td>math</td>\n",
       "      <td>13</td>\n",
       "    </tr>\n",
       "    <tr>\n",
       "      <th>8</th>\n",
       "      <td>school1</td>\n",
       "      <td>math</td>\n",
       "      <td>19</td>\n",
       "    </tr>\n",
       "    <tr>\n",
       "      <th>9</th>\n",
       "      <td>school1</td>\n",
       "      <td>math</td>\n",
       "      <td>11</td>\n",
       "    </tr>\n",
       "    <tr>\n",
       "      <th>10</th>\n",
       "      <td>school2</td>\n",
       "      <td>stats</td>\n",
       "      <td>12</td>\n",
       "    </tr>\n",
       "    <tr>\n",
       "      <th>11</th>\n",
       "      <td>school2</td>\n",
       "      <td>stats</td>\n",
       "      <td>16</td>\n",
       "    </tr>\n",
       "    <tr>\n",
       "      <th>12</th>\n",
       "      <td>school2</td>\n",
       "      <td>stats</td>\n",
       "      <td>15</td>\n",
       "    </tr>\n",
       "    <tr>\n",
       "      <th>13</th>\n",
       "      <td>school2</td>\n",
       "      <td>stats</td>\n",
       "      <td>15</td>\n",
       "    </tr>\n",
       "    <tr>\n",
       "      <th>14</th>\n",
       "      <td>school2</td>\n",
       "      <td>stats</td>\n",
       "      <td>10</td>\n",
       "    </tr>\n",
       "    <tr>\n",
       "      <th>15</th>\n",
       "      <td>school2</td>\n",
       "      <td>stats</td>\n",
       "      <td>17</td>\n",
       "    </tr>\n",
       "    <tr>\n",
       "      <th>16</th>\n",
       "      <td>school2</td>\n",
       "      <td>stats</td>\n",
       "      <td>15</td>\n",
       "    </tr>\n",
       "    <tr>\n",
       "      <th>17</th>\n",
       "      <td>school2</td>\n",
       "      <td>stats</td>\n",
       "      <td>13</td>\n",
       "    </tr>\n",
       "    <tr>\n",
       "      <th>18</th>\n",
       "      <td>school2</td>\n",
       "      <td>stats</td>\n",
       "      <td>19</td>\n",
       "    </tr>\n",
       "    <tr>\n",
       "      <th>19</th>\n",
       "      <td>school2</td>\n",
       "      <td>stats</td>\n",
       "      <td>11</td>\n",
       "    </tr>\n",
       "  </tbody>\n",
       "</table>\n",
       "</div>"
      ],
      "text/plain": [
       "     school subject  score\n",
       "0   school1    math     12\n",
       "1   school1    math     16\n",
       "2   school1    math     15\n",
       "3   school1    math     15\n",
       "4   school1    math     10\n",
       "5   school1    math     17\n",
       "6   school1    math     15\n",
       "7   school1    math     13\n",
       "8   school1    math     19\n",
       "9   school1    math     11\n",
       "10  school2   stats     12\n",
       "11  school2   stats     16\n",
       "12  school2   stats     15\n",
       "13  school2   stats     15\n",
       "14  school2   stats     10\n",
       "15  school2   stats     17\n",
       "16  school2   stats     15\n",
       "17  school2   stats     13\n",
       "18  school2   stats     19\n",
       "19  school2   stats     11"
      ]
     },
     "execution_count": 174,
     "metadata": {},
     "output_type": "execute_result"
    }
   ],
   "source": [
    "#Create data\n",
    "data_dict={\n",
    "    'school': np.repeat(['school1','school2'],10),\n",
    "    'subject': np.repeat(['math','stats'],10),\n",
    "    'score':[12,16,15,15,10,17,15,13,19,11,12,16,15,15,10,17,15,13,19,11]\n",
    "}\n",
    "df=pd.DataFrame(data_dict)\n",
    "df"
   ]
  },
  {
   "cell_type": "code",
   "execution_count": 176,
   "id": "35efd0ed-4cb5-4205-8f35-bc4abbc85cde",
   "metadata": {},
   "outputs": [],
   "source": [
    "model=ols('score ~C(school)+ C(subject) + C(school):C(subject)',data=df).fit()"
   ]
  },
  {
   "cell_type": "code",
   "execution_count": 178,
   "id": "56d58ada-0113-4b93-86ac-a4ed170109c3",
   "metadata": {},
   "outputs": [
    {
     "name": "stdout",
     "output_type": "stream",
     "text": [
      "                        df        sum_sq       mean_sq             F    PR(>F)\n",
      "C(school)              1.0  9.321501e-30  9.321501e-30  1.196769e-30  1.000000\n",
      "C(subject)             1.0  6.559572e-01  6.559572e-01  8.421705e-02  0.774979\n",
      "C(school):C(subject)   1.0  4.703989e-01  4.703989e-01  6.039358e-02  0.808655\n",
      "Residual              18.0  1.402000e+02  7.788889e+00           NaN       NaN\n"
     ]
    }
   ],
   "source": [
    "result=sm.stats.anova_lm(model,type=2)\n",
    "print(result)"
   ]
  },
  {
   "cell_type": "code",
   "execution_count": null,
   "id": "323f910b-79c0-43b2-b17c-57c43c452c94",
   "metadata": {},
   "outputs": [],
   "source": [
    "model.fit()"
   ]
  }
 ],
 "metadata": {
  "kernelspec": {
   "display_name": "Python 3 (ipykernel)",
   "language": "python",
   "name": "python3"
  },
  "language_info": {
   "codemirror_mode": {
    "name": "ipython",
    "version": 3
   },
   "file_extension": ".py",
   "mimetype": "text/x-python",
   "name": "python",
   "nbconvert_exporter": "python",
   "pygments_lexer": "ipython3",
   "version": "3.12.4"
  }
 },
 "nbformat": 4,
 "nbformat_minor": 5
}
