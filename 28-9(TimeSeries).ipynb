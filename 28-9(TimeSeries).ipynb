{
 "cells": [
  {
   "cell_type": "markdown",
   "id": "87e4ce34-4ac6-490a-bd98-626a0312d755",
   "metadata": {},
   "source": [
    "# Import Warnings"
   ]
  },
  {
   "cell_type": "code",
   "execution_count": null,
   "id": "b03af3e9-c743-42c7-9efd-e9a5eb054d37",
   "metadata": {},
   "outputs": [],
   "source": [
    "import numpy as np\n",
    "import pandas as pd\n",
    "import matplotlib.pyplot as plt\n",
    "import warnings \n",
    "import seaborn as sns"
   ]
  },
  {
   "cell_type": "markdown",
   "id": "249f5e72-7ee7-4f59-8201-b61481afebd1",
   "metadata": {},
   "source": [
    "# Load Data"
   ]
  },
  {
   "cell_type": "code",
   "execution_count": null,
   "id": "a9f9724a-f9e1-4cca-a337-f59b64e60275",
   "metadata": {},
   "outputs": [],
   "source": [
    "data=pd.read_csv(\"temperature-1.csv\")\n",
    "data"
   ]
  },
  {
   "cell_type": "code",
   "execution_count": null,
   "id": "3b411b0a-fc89-43be-a472-16da3a0267f7",
   "metadata": {},
   "outputs": [],
   "source": [
    "data.drop(columns=[\"Unnamed: 0\"],axis=1, inplace=True)\n",
    "data"
   ]
  },
  {
   "cell_type": "code",
   "execution_count": null,
   "id": "250173d3-c57d-4a72-8677-7500db5735ad",
   "metadata": {},
   "outputs": [],
   "source": [
    "data.info()"
   ]
  },
  {
   "cell_type": "code",
   "execution_count": null,
   "id": "9ab27c2e-4f7c-40c7-b90e-682a2d7a29ff",
   "metadata": {},
   "outputs": [],
   "source": [
    "# Convert data time column into a pandas date time object\n",
    "data['Datetime']=pd.to_datetime(data['Datetime'], format= '%d-%m-%Y %H:%M')"
   ]
  },
  {
   "cell_type": "code",
   "execution_count": null,
   "id": "4f2220c4-8c41-4f2b-a107-bca13e4389ee",
   "metadata": {},
   "outputs": [],
   "source": [
    "data.info()"
   ]
  },
  {
   "cell_type": "code",
   "execution_count": null,
   "id": "2870f111-3c34-45c4-8d6e-d6c359ead82f",
   "metadata": {},
   "outputs": [],
   "source": [
    "data.head()"
   ]
  },
  {
   "cell_type": "code",
   "execution_count": null,
   "id": "2b2402bf-789e-4fed-bb50-d38b3b8dfc36",
   "metadata": {},
   "outputs": [],
   "source": [
    "# Set datetime object column as index --> That column is Datetime\n",
    "data.set_index('Datetime', inplace=True)\n",
    "data.head()"
   ]
  },
  {
   "cell_type": "markdown",
   "id": "c3afda80-8276-476e-88d6-97f430df2120",
   "metadata": {},
   "source": [
    "# Data Visualization"
   ]
  },
  {
   "cell_type": "code",
   "execution_count": null,
   "id": "d34fd714-4144-48be-9a2e-f344408298c5",
   "metadata": {},
   "outputs": [],
   "source": [
    "plt.figure(figsize=(20,6))\n",
    "plt.plot(data)\n",
    "plt.title(\"Hourly Temperature\")\n",
    "plt.xlabel(\"Datetime\")\n",
    "plt.ylabel(\"Temperature\")\n",
    "plt.grid(True)"
   ]
  },
  {
   "cell_type": "markdown",
   "id": "900def08-4e2a-4d3c-99dd-4b84fa345b97",
   "metadata": {},
   "source": [
    "# Stationary Check"
   ]
  },
  {
   "cell_type": "code",
   "execution_count": null,
   "id": "55641762-6830-40e2-9594-5e5d29f6a879",
   "metadata": {},
   "outputs": [],
   "source": [
    "from statsmodels.tsa.stattools import adfuller"
   ]
  },
  {
   "cell_type": "code",
   "execution_count": null,
   "id": "c5fbd321-1ef2-4359-92ad-67162da1e04d",
   "metadata": {},
   "outputs": [],
   "source": [
    "# Augumented Dickey Fuller Test\n",
    "dftest=adfuller(data['Hourly_Temp'])\n",
    "dftest"
   ]
  },
  {
   "cell_type": "code",
   "execution_count": null,
   "id": "d1a5378b-3437-4ffe-b563-4f3430397e13",
   "metadata": {},
   "outputs": [],
   "source": [
    "df_output=pd.Series(dftest[0:4], index=['Test Statistics', 'p-value','#Lags Used', 'No. of Observations Used'])"
   ]
  },
  {
   "cell_type": "code",
   "execution_count": null,
   "id": "53f93306-3640-4b65-8f81-eec2d18546c3",
   "metadata": {},
   "outputs": [],
   "source": [
    "for key, value in dftest[4].items():\n",
    "    df_output['Critical value(%s)' %key]= value"
   ]
  },
  {
   "cell_type": "code",
   "execution_count": null,
   "id": "6a6ee342-3ea8-40d1-bdc8-5742ea33b65a",
   "metadata": {},
   "outputs": [],
   "source": [
    "print(\"Augumented Dickey Fuller Test Result: \")\n",
    "print(df_output)"
   ]
  },
  {
   "cell_type": "code",
   "execution_count": null,
   "id": "b1769e75-0c22-439b-af6a-c36a5190db23",
   "metadata": {},
   "outputs": [],
   "source": [
    "# Make it Stationary"
   ]
  },
  {
   "cell_type": "markdown",
   "id": "c8bdc0c9-e8c2-421a-bc67-c8db50e701ad",
   "metadata": {},
   "source": [
    "# Differencing: Making it less than 0.06(Current -Previous)"
   ]
  },
  {
   "cell_type": "code",
   "execution_count": null,
   "id": "87ef04f2-4b03-48b1-ac4d-ac7a9715b5ed",
   "metadata": {},
   "outputs": [],
   "source": [
    "data['Temp_diff']= data['Hourly_Temp']- data['Hourly_Temp'].shift(1)# Informing python to skip 1st row"
   ]
  },
  {
   "cell_type": "code",
   "execution_count": null,
   "id": "9c1daecd-09c6-46aa-91d7-559cc7feb5a2",
   "metadata": {},
   "outputs": [],
   "source": [
    "data.head()"
   ]
  },
  {
   "cell_type": "code",
   "execution_count": null,
   "id": "8f6700e6-2e5f-47f6-bed3-94f6db3bcacf",
   "metadata": {},
   "outputs": [],
   "source": [
    "data.dropna(inplace=True)\n",
    "data.head()"
   ]
  },
  {
   "cell_type": "code",
   "execution_count": null,
   "id": "3812b333-f385-423e-8e8b-c1c432e62589",
   "metadata": {},
   "outputs": [],
   "source": [
    "# Plot the difference column\n",
    "plt.figure(figsize=(20,6))\n",
    "plt.plot(data['Temp_diff'])\n",
    "plt.title(\"Hourly Temperature Data Difference\")\n",
    "plt.xlabel(\"Datetime\")\n",
    "plt.ylabel(\"Temperature Difference\")\n",
    "plt.grid(True)"
   ]
  },
  {
   "cell_type": "code",
   "execution_count": null,
   "id": "77ea9c93-72ea-4faa-b721-33c178d44d04",
   "metadata": {},
   "outputs": [],
   "source": [
    "# Run the ADF test\n",
    "df_test2=adfuller(data['Temp_diff'])\n",
    "df_test2"
   ]
  },
  {
   "cell_type": "markdown",
   "id": "b412743b-516d-426c-9f1f-7793b7ad28d6",
   "metadata": {},
   "source": [
    "# Build the Arima model"
   ]
  },
  {
   "cell_type": "code",
   "execution_count": null,
   "id": "c2786a36-5cf2-4376-8268-0378c1022c4d",
   "metadata": {},
   "outputs": [],
   "source": [
    "from statsmodels.tsa.statespace.sarimax import SARIMAX"
   ]
  },
  {
   "cell_type": "markdown",
   "id": "f9b2072b-3416-46c6-88b6-ab97216986cd",
   "metadata": {},
   "source": [
    "# Build SARIMA model"
   ]
  },
  {
   "cell_type": "code",
   "execution_count": null,
   "id": "3de485c1-be46-4053-8c21-d931ca98b769",
   "metadata": {},
   "outputs": [],
   "source": [
    "model= SARIMAX(data['Hourly_Temp'], order=(1,1,1), seasonal_order=(1,1,2,24))\n",
    "result=model.fit(disp=False)"
   ]
  },
  {
   "cell_type": "code",
   "execution_count": null,
   "id": "9e841dc1-6fb1-4c22-b777-86047b4a7011",
   "metadata": {},
   "outputs": [],
   "source": [
    "# Predict the result\n",
    "forecast_steps=24\n",
    "forecast= results.get_forecast(steps=forecast_steps)"
   ]
  },
  {
   "cell_type": "markdown",
   "id": "0c0a9119-34d7-48db-8c15-2bd10c5e6336",
   "metadata": {},
   "source": [
    "# Visualise - Date Range"
   ]
  },
  {
   "cell_type": "code",
   "execution_count": null,
   "id": "47e2e9d3-2cc0-4a7b-97e2-e4272b478ada",
   "metadata": {},
   "outputs": [],
   "source": [
    "data_range= pd.data_range(start=data.index[-1], periods=forecast_steps+1, freq='H')\n",
    "data_range"
   ]
  },
  {
   "cell_type": "code",
   "execution_count": null,
   "id": "750017bf-48e9-4405-a1d5-7a363d73fde7",
   "metadata": {},
   "outputs": [],
   "source": [
    "forecast_values=forecast.predict_mean\n",
    "forecast_conf_int=forecast.conf_int()"
   ]
  },
  {
   "cell_type": "code",
   "execution_count": null,
   "id": "191afcb5-3032-4a1e-a964-0db73be6ad54",
   "metadata": {},
   "outputs": [],
   "source": [
    "forecast_df=pd.DataFrame(\n",
    "    {\n",
    "        'Forecast': forecast_values,\n",
    "        'Lower_CI': forecast_conf_int.iloc[:,0],\n",
    "        'Upper_CI': forecast_conf_int.iloc[:,1],\n",
    "        'index': data_range[1:]\n",
    "    } \n",
    ")    "
   ]
  },
  {
   "cell_type": "code",
   "execution_count": null,
   "id": "865d6362-c0be-45de-9b9c-7f0a10806def",
   "metadata": {},
   "outputs": [],
   "source": [
    "forecast_df.head()"
   ]
  },
  {
   "cell_type": "code",
   "execution_count": null,
   "id": "02e52d03-c740-4b41-847c-86285f9cfee0",
   "metadata": {},
   "outputs": [],
   "source": []
  }
 ],
 "metadata": {
  "kernelspec": {
   "display_name": "Python 3 (ipykernel)",
   "language": "python",
   "name": "python3"
  },
  "language_info": {
   "codemirror_mode": {
    "name": "ipython",
    "version": 3
   },
   "file_extension": ".py",
   "mimetype": "text/x-python",
   "name": "python",
   "nbconvert_exporter": "python",
   "pygments_lexer": "ipython3",
   "version": "3.12.4"
  }
 },
 "nbformat": 4,
 "nbformat_minor": 5
}
